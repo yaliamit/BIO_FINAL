{
 "cells": [
  {
   "cell_type": "code",
   "execution_count": 1,
   "id": "0ef2770b-7651-46fc-b7a6-d1a86a58c159",
   "metadata": {},
   "outputs": [],
   "source": [
    "import os\n",
    "## Base folder.\n",
    "os.chdir('/home/amit/ga/BIO/FINAL')\n",
    "import sys\n",
    "sys.path.append(\"CODE\")\n",
    "from construct import construct_actin_outline, allocate_to_train_test_valid, construct_permeability\n",
    "%load_ext autoreload\n",
    "%autoreload 2"
   ]
  },
  {
   "cell_type": "markdown",
   "id": "e481cf00-3144-4cbd-810c-dac75b048892",
   "metadata": {},
   "source": [
    "### Construct data. Rename the three data types from experiment folders as actin, junction, outline. Assign same number from files from same folder and add DF or UF prefix. - write all files to data/temp"
   ]
  },
  {
   "cell_type": "code",
   "execution_count": null,
   "id": "571e5304-4a66-43c8-8865-d4873b70c716",
   "metadata": {},
   "outputs": [],
   "source": [
    "duf=construct_actin_outline(save=True)"
   ]
  },
  {
   "cell_type": "markdown",
   "id": "edf2cd87-f3da-4b2b-bdb5-63f08430f999",
   "metadata": {},
   "source": [
    "### Randomly allocate files from data/temp to data/train,test,valid"
   ]
  },
  {
   "cell_type": "code",
   "execution_count": 3,
   "id": "84ffd4a7-65bd-4a23-b7cc-c880fc8d58fc",
   "metadata": {},
   "outputs": [
    {
     "name": "stdout",
     "output_type": "stream",
     "text": [
      "goodi 208\n",
      "128.0 60.0 20.0\n"
     ]
    }
   ],
   "source": [
    "allocate_to_train_test_valid()"
   ]
  },
  {
   "cell_type": "markdown",
   "id": "967cea4a-a02d-46f7-8c8c-799c290bda4d",
   "metadata": {},
   "source": [
    "### Create dataset for leakiness with, actin, junction and permeability files."
   ]
  },
  {
   "cell_type": "code",
   "execution_count": 3,
   "id": "44febfe1-cf1b-4d96-966a-eee93cdd1625",
   "metadata": {},
   "outputs": [
    {
     "name": "stdout",
     "output_type": "stream",
     "text": [
      "MIN 3\n",
      "MIN 1\n",
      "MIN 5\n",
      "MIN 1\n",
      "MIN 6\n",
      "MIN 4\n",
      "MIN 3\n",
      "MIN 6\n",
      "MIN 6\n",
      "MIN 4\n",
      "MIN 2\n",
      "MIN 3\n",
      "MIN 4\n",
      "MIN 7\n",
      "MIN 6\n",
      "MIN 6\n",
      "MIN 4\n",
      "MIN 4\n",
      "MIN 6\n",
      "MIN 6\n",
      "MIN 5\n",
      "MIN 6\n",
      "MIN 3\n",
      "MIN 2\n",
      "MIN 7\n",
      "MIN 7\n",
      "MIN 6\n",
      "MIN 6\n",
      "MIN 4\n",
      "MIN 7\n",
      "MIN 5\n",
      "MIN 4\n",
      "MIN 5\n",
      "MIN 6\n",
      "MIN 5\n",
      "MIN 4\n",
      "MIN 5\n",
      "MIN 6\n",
      "MIN 6\n",
      "MIN 5\n",
      "MIN 5\n",
      "MIN 7\n",
      "MIN 7\n",
      "MIN 5\n",
      "MIN 1\n",
      "MIN 5\n",
      "MIN 6\n",
      "MIN 5\n",
      "MIN 5\n",
      "MIN 3\n",
      "MIN 7\n",
      "MIN 5\n",
      "MIN 2\n",
      "MIN 5\n",
      "MIN 5\n",
      "MIN 5\n",
      "MIN 5\n",
      "37 10 10\n"
     ]
    }
   ],
   "source": [
    "construct_permeability(5,5)"
   ]
  },
  {
   "cell_type": "code",
   "execution_count": null,
   "id": "0f021007-3a59-4413-bec9-ef6699856771",
   "metadata": {},
   "outputs": [],
   "source": []
  }
 ],
 "metadata": {
  "kernelspec": {
   "display_name": "Python 3 (ipykernel)",
   "language": "python",
   "name": "python3"
  },
  "language_info": {
   "codemirror_mode": {
    "name": "ipython",
    "version": 3
   },
   "file_extension": ".py",
   "mimetype": "text/x-python",
   "name": "python",
   "nbconvert_exporter": "python",
   "pygments_lexer": "ipython3",
   "version": "3.12.2"
  }
 },
 "nbformat": 4,
 "nbformat_minor": 5
}
