{
 "cells": [
  {
   "cell_type": "code",
   "execution_count": 1,
   "id": "0ef2770b-7651-46fc-b7a6-d1a86a58c159",
   "metadata": {},
   "outputs": [],
   "source": [
    "import os\n",
    "os.chdir('/home/amit/ga/BIO/FINAL')\n",
    "import sys\n",
    "sys.path.append(\"CODE\")\n",
    "from construct import construct_actin_outline, allocate_to_train_test_valid, construct_permeability\n",
    "%load_ext autoreload\n",
    "%autoreload 2"
   ]
  },
  {
   "cell_type": "code",
   "execution_count": null,
   "id": "571e5304-4a66-43c8-8865-d4873b70c716",
   "metadata": {},
   "outputs": [],
   "source": [
    "construct_actin_outline(save=True)"
   ]
  },
  {
   "cell_type": "code",
   "execution_count": 2,
   "id": "84ffd4a7-65bd-4a23-b7cc-c880fc8d58fc",
   "metadata": {},
   "outputs": [
    {
     "name": "stdout",
     "output_type": "stream",
     "text": [
      "goodi 208\n",
      "128.0 60.0 20.0\n"
     ]
    }
   ],
   "source": [
    "allocate_to_train_test_valid()"
   ]
  },
  {
   "cell_type": "code",
   "execution_count": 5,
   "id": "44febfe1-cf1b-4d96-966a-eee93cdd1625",
   "metadata": {},
   "outputs": [
    {
     "name": "stdout",
     "output_type": "stream",
     "text": [
      "valid 0\n",
      "valid 1\n",
      "valid 2\n",
      "valid 3\n",
      "valid 4\n",
      "test 5\n",
      "test 6\n",
      "test 7\n",
      "test 8\n",
      "test 9\n",
      "valid 0\n",
      "valid 1\n",
      "valid 2\n",
      "valid 3\n",
      "valid 4\n",
      "test 5\n",
      "test 6\n",
      "test 7\n",
      "test 8\n",
      "test 9\n",
      "37 10 10\n"
     ]
    }
   ],
   "source": [
    "construct_permeability(5,5)"
   ]
  },
  {
   "cell_type": "code",
   "execution_count": null,
   "id": "7f262b4e-b129-49b7-b40b-4b2a910e33e9",
   "metadata": {},
   "outputs": [],
   "source": []
  }
 ],
 "metadata": {
  "kernelspec": {
   "display_name": "Python 3 (ipykernel)",
   "language": "python",
   "name": "python3"
  },
  "language_info": {
   "codemirror_mode": {
    "name": "ipython",
    "version": 3
   },
   "file_extension": ".py",
   "mimetype": "text/x-python",
   "name": "python",
   "nbconvert_exporter": "python",
   "pygments_lexer": "ipython3",
   "version": "3.12.2"
  }
 },
 "nbformat": 4,
 "nbformat_minor": 5
}
