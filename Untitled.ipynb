{
 "cells": [
  {
   "cell_type": "code",
   "execution_count": 16,
   "id": "5e12e513-6b97-4743-93a1-71edb7c7c59b",
   "metadata": {},
   "outputs": [],
   "source": [
    "import pylab as py\n",
    "\n",
    "dir='data/permeability/'\n",
    "tt='train/'\n",
    "leak_name='leakiness'\n",
    "i=22\n",
    "imt=py.imread(dir+tt+leak_name+str(i)+'.tif')"
   ]
  },
  {
   "cell_type": "code",
   "execution_count": 17,
   "id": "be5a04c2-e68b-4a9c-a2c9-89c4ff497b5b",
   "metadata": {},
   "outputs": [
    {
     "name": "stdout",
     "output_type": "stream",
     "text": [
      "(1584, 1120)\n"
     ]
    }
   ],
   "source": [
    "print(imt.shape)"
   ]
  },
  {
   "cell_type": "code",
   "execution_count": 10,
   "id": "e2d58d81-0611-463b-bce9-63a063447618",
   "metadata": {},
   "outputs": [
    {
     "data": {
      "text/plain": [
       "np.int64(0)"
      ]
     },
     "execution_count": 10,
     "metadata": {},
     "output_type": "execute_result"
    }
   ],
   "source": [
    "import numpy as np\n",
    "np.sum(imt==0)"
   ]
  },
  {
   "cell_type": "code",
   "execution_count": 11,
   "id": "324d8430-7fa9-444f-b5dd-81e8b1085b88",
   "metadata": {},
   "outputs": [
    {
     "data": {
      "text/plain": [
       "np.uint8(7)"
      ]
     },
     "execution_count": 11,
     "metadata": {},
     "output_type": "execute_result"
    }
   ],
   "source": [
    "np.min(imt)"
   ]
  },
  {
   "cell_type": "code",
   "execution_count": 12,
   "id": "6c5fc6ef-89e7-48ae-9d71-40bda037f549",
   "metadata": {},
   "outputs": [
    {
     "data": {
      "text/plain": [
       "np.uint8(255)"
      ]
     },
     "execution_count": 12,
     "metadata": {},
     "output_type": "execute_result"
    }
   ],
   "source": [
    "np.max(imt)"
   ]
  },
  {
   "cell_type": "code",
   "execution_count": null,
   "id": "0b943263-5c39-48f4-ba66-fd401f2c2816",
   "metadata": {},
   "outputs": [],
   "source": []
  }
 ],
 "metadata": {
  "kernelspec": {
   "display_name": "Python 3 (ipykernel)",
   "language": "python",
   "name": "python3"
  },
  "language_info": {
   "codemirror_mode": {
    "name": "ipython",
    "version": 3
   },
   "file_extension": ".py",
   "mimetype": "text/x-python",
   "name": "python",
   "nbconvert_exporter": "python",
   "pygments_lexer": "ipython3",
   "version": "3.12.2"
  }
 },
 "nbformat": 4,
 "nbformat_minor": 5
}
